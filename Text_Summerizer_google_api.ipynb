{
  "nbformat": 4,
  "nbformat_minor": 0,
  "metadata": {
    "colab": {
      "provenance": []
    },
    "kernelspec": {
      "name": "python3",
      "display_name": "Python 3"
    },
    "language_info": {
      "name": "python"
    }
  },
  "cells": [
    {
      "cell_type": "code",
      "source": [
        "!pip install google-generativeai\n",
        "!pip install pypdf"
      ],
      "metadata": {
        "colab": {
          "base_uri": "https://localhost:8080/"
        },
        "id": "QJx6h95reaaw",
        "outputId": "6de65173-b3b8-4433-d137-b4dde039170f"
      },
      "execution_count": null,
      "outputs": [
        {
          "output_type": "stream",
          "name": "stdout",
          "text": [
            "Requirement already satisfied: google-generativeai in /usr/local/lib/python3.10/dist-packages (0.7.2)\n",
            "Requirement already satisfied: google-ai-generativelanguage==0.6.6 in /usr/local/lib/python3.10/dist-packages (from google-generativeai) (0.6.6)\n",
            "Requirement already satisfied: google-api-core in /usr/local/lib/python3.10/dist-packages (from google-generativeai) (2.19.1)\n",
            "Requirement already satisfied: google-api-python-client in /usr/local/lib/python3.10/dist-packages (from google-generativeai) (2.137.0)\n",
            "Requirement already satisfied: google-auth>=2.15.0 in /usr/local/lib/python3.10/dist-packages (from google-generativeai) (2.27.0)\n",
            "Requirement already satisfied: protobuf in /usr/local/lib/python3.10/dist-packages (from google-generativeai) (3.20.3)\n",
            "Requirement already satisfied: pydantic in /usr/local/lib/python3.10/dist-packages (from google-generativeai) (2.8.2)\n",
            "Requirement already satisfied: tqdm in /usr/local/lib/python3.10/dist-packages (from google-generativeai) (4.66.4)\n",
            "Requirement already satisfied: typing-extensions in /usr/local/lib/python3.10/dist-packages (from google-generativeai) (4.12.2)\n",
            "Requirement already satisfied: proto-plus<2.0.0dev,>=1.22.3 in /usr/local/lib/python3.10/dist-packages (from google-ai-generativelanguage==0.6.6->google-generativeai) (1.24.0)\n",
            "Requirement already satisfied: googleapis-common-protos<2.0.dev0,>=1.56.2 in /usr/local/lib/python3.10/dist-packages (from google-api-core->google-generativeai) (1.63.2)\n",
            "Requirement already satisfied: requests<3.0.0.dev0,>=2.18.0 in /usr/local/lib/python3.10/dist-packages (from google-api-core->google-generativeai) (2.31.0)\n",
            "Requirement already satisfied: cachetools<6.0,>=2.0.0 in /usr/local/lib/python3.10/dist-packages (from google-auth>=2.15.0->google-generativeai) (5.4.0)\n",
            "Requirement already satisfied: pyasn1-modules>=0.2.1 in /usr/local/lib/python3.10/dist-packages (from google-auth>=2.15.0->google-generativeai) (0.4.0)\n",
            "Requirement already satisfied: rsa<5,>=3.1.4 in /usr/local/lib/python3.10/dist-packages (from google-auth>=2.15.0->google-generativeai) (4.9)\n",
            "Requirement already satisfied: httplib2<1.dev0,>=0.19.0 in /usr/local/lib/python3.10/dist-packages (from google-api-python-client->google-generativeai) (0.22.0)\n",
            "Requirement already satisfied: google-auth-httplib2<1.0.0,>=0.2.0 in /usr/local/lib/python3.10/dist-packages (from google-api-python-client->google-generativeai) (0.2.0)\n",
            "Requirement already satisfied: uritemplate<5,>=3.0.1 in /usr/local/lib/python3.10/dist-packages (from google-api-python-client->google-generativeai) (4.1.1)\n",
            "Requirement already satisfied: annotated-types>=0.4.0 in /usr/local/lib/python3.10/dist-packages (from pydantic->google-generativeai) (0.7.0)\n",
            "Requirement already satisfied: pydantic-core==2.20.1 in /usr/local/lib/python3.10/dist-packages (from pydantic->google-generativeai) (2.20.1)\n",
            "Requirement already satisfied: grpcio<2.0dev,>=1.33.2 in /usr/local/lib/python3.10/dist-packages (from google-api-core[grpc]!=2.0.*,!=2.1.*,!=2.10.*,!=2.2.*,!=2.3.*,!=2.4.*,!=2.5.*,!=2.6.*,!=2.7.*,!=2.8.*,!=2.9.*,<3.0.0dev,>=1.34.1->google-ai-generativelanguage==0.6.6->google-generativeai) (1.64.1)\n",
            "Requirement already satisfied: grpcio-status<2.0.dev0,>=1.33.2 in /usr/local/lib/python3.10/dist-packages (from google-api-core[grpc]!=2.0.*,!=2.1.*,!=2.10.*,!=2.2.*,!=2.3.*,!=2.4.*,!=2.5.*,!=2.6.*,!=2.7.*,!=2.8.*,!=2.9.*,<3.0.0dev,>=1.34.1->google-ai-generativelanguage==0.6.6->google-generativeai) (1.48.2)\n",
            "Requirement already satisfied: pyparsing!=3.0.0,!=3.0.1,!=3.0.2,!=3.0.3,<4,>=2.4.2 in /usr/local/lib/python3.10/dist-packages (from httplib2<1.dev0,>=0.19.0->google-api-python-client->google-generativeai) (3.1.2)\n",
            "Requirement already satisfied: pyasn1<0.7.0,>=0.4.6 in /usr/local/lib/python3.10/dist-packages (from pyasn1-modules>=0.2.1->google-auth>=2.15.0->google-generativeai) (0.6.0)\n",
            "Requirement already satisfied: charset-normalizer<4,>=2 in /usr/local/lib/python3.10/dist-packages (from requests<3.0.0.dev0,>=2.18.0->google-api-core->google-generativeai) (3.3.2)\n",
            "Requirement already satisfied: idna<4,>=2.5 in /usr/local/lib/python3.10/dist-packages (from requests<3.0.0.dev0,>=2.18.0->google-api-core->google-generativeai) (3.7)\n",
            "Requirement already satisfied: urllib3<3,>=1.21.1 in /usr/local/lib/python3.10/dist-packages (from requests<3.0.0.dev0,>=2.18.0->google-api-core->google-generativeai) (2.0.7)\n",
            "Requirement already satisfied: certifi>=2017.4.17 in /usr/local/lib/python3.10/dist-packages (from requests<3.0.0.dev0,>=2.18.0->google-api-core->google-generativeai) (2024.7.4)\n",
            "Collecting pypdf\n",
            "  Downloading pypdf-4.3.1-py3-none-any.whl.metadata (7.4 kB)\n",
            "Requirement already satisfied: typing_extensions>=4.0 in /usr/local/lib/python3.10/dist-packages (from pypdf) (4.12.2)\n",
            "Downloading pypdf-4.3.1-py3-none-any.whl (295 kB)\n",
            "\u001b[2K   \u001b[90m━━━━━━━━━━━━━━━━━━━━━━━━━━━━━━━━━━━━━━━━\u001b[0m \u001b[32m295.8/295.8 kB\u001b[0m \u001b[31m2.3 MB/s\u001b[0m eta \u001b[36m0:00:00\u001b[0m\n",
            "\u001b[?25hInstalling collected packages: pypdf\n",
            "Successfully installed pypdf-4.3.1\n"
          ]
        }
      ]
    },
    {
      "cell_type": "code",
      "execution_count": null,
      "metadata": {
        "id": "p5ieVssieGeQ"
      },
      "outputs": [],
      "source": [
        "import pathlib\n",
        "import textwrap\n",
        "import time\n",
        "from pypdf import PdfReader\n",
        "from google.colab import drive\n",
        "from IPython.display import display, Markdown\n",
        "import google.generativeai as genai"
      ]
    },
    {
      "cell_type": "code",
      "source": [
        "def to_markdown(text):\n",
        "    text = text.replace('•', '  *')\n",
        "    return Markdown(textwrap.indent(text, '> ', predicate=lambda _: True))"
      ],
      "metadata": {
        "id": "a-mLELc7eeNV"
      },
      "execution_count": null,
      "outputs": []
    },
    {
      "cell_type": "code",
      "source": [
        "# Mount Google Drive\n",
        "drive.mount('/content/drive')"
      ],
      "metadata": {
        "colab": {
          "base_uri": "https://localhost:8080/"
        },
        "id": "qr2POmMBeeKT",
        "outputId": "391b1bc7-2c19-463d-da29-da4ca0ae097c"
      },
      "execution_count": null,
      "outputs": [
        {
          "output_type": "stream",
          "name": "stdout",
          "text": [
            "Mounted at /content/drive\n"
          ]
        }
      ]
    },
    {
      "cell_type": "code",
      "source": [
        "# Set up directory and filename\n",
        "directory = '/content/drive/MyDrive/1-Build-a-Chatbot/'\n",
        "filename = 'Art-of-War.pdf'"
      ],
      "metadata": {
        "id": "BiDaZZLveeF-"
      },
      "execution_count": null,
      "outputs": []
    },
    {
      "cell_type": "code",
      "source": [
        "# Open the PDF file\n",
        "pdfFileObject = open(directory + filename, 'rb')"
      ],
      "metadata": {
        "id": "voXqIilReowb"
      },
      "execution_count": null,
      "outputs": []
    },
    {
      "cell_type": "code",
      "source": [
        "# Create a PDF reader object\n",
        "pdfReader = PdfReader(pdfFileObject)\n",
        "text = []"
      ],
      "metadata": {
        "id": "JNexZElfeot6"
      },
      "execution_count": null,
      "outputs": []
    },
    {
      "cell_type": "code",
      "source": [
        "# Extract text from each page\n",
        "for page in pdfReader.pages:\n",
        "    page_text = page.extract_text().replace('\\t\\r', '').replace('\\xa0', '')\n",
        "    text.append(page_text)"
      ],
      "metadata": {
        "id": "CUvocSZHeorN"
      },
      "execution_count": null,
      "outputs": []
    },
    {
      "cell_type": "code",
      "source": [
        "# Function to join multiple pages\n",
        "def join_elements(lst, chars_per_element):\n",
        "    new_lst = []\n",
        "    for i in range(0, len(lst), chars_per_element):\n",
        "        new_lst.append(''.join(lst[i:i+chars_per_element]))\n",
        "    return new_lst"
      ],
      "metadata": {
        "id": "cWBZ9XogeomG"
      },
      "execution_count": null,
      "outputs": []
    },
    {
      "cell_type": "code",
      "source": [
        "# Compress pages to reduce API calls\n",
        "new_text = join_elements(text, 3)"
      ],
      "metadata": {
        "id": "JkpDwcrKeoj8"
      },
      "execution_count": null,
      "outputs": []
    },
    {
      "cell_type": "code",
      "source": [
        "print(f\"Original Pages = {len(text)}\")\n",
        "print(f\"Compressed Pages = {len(new_text)}\")"
      ],
      "metadata": {
        "colab": {
          "base_uri": "https://localhost:8080/"
        },
        "id": "lFERSfZGfL7G",
        "outputId": "847c374f-a3f6-4146-cedd-1b12d5e76f97"
      },
      "execution_count": null,
      "outputs": [
        {
          "output_type": "stream",
          "name": "stdout",
          "text": [
            "Original Pages = 132\n",
            "Compressed Pages = 44\n"
          ]
        }
      ]
    },
    {
      "cell_type": "code",
      "source": [
        "# Used to securely store your API key\n",
        "from google.colab import userdata"
      ],
      "metadata": {
        "id": "73yq1mAAgloI"
      },
      "execution_count": null,
      "outputs": []
    },
    {
      "cell_type": "code",
      "source": [
        "# Configure API key for Google GenAI\n",
        "GOOGLE_API_KEY = userdata.get('GOOGLE_API_KEY')\n",
        "genai.configure(api_key=GOOGLE_API_KEY)\n",
        "model_name = 'models/text-bison-001'  # Use a different model name"
      ],
      "metadata": {
        "id": "YdX8Rnf4fL4y"
      },
      "execution_count": null,
      "outputs": []
    },
    {
      "cell_type": "code",
      "source": [
        "# Function to get completion from the API\n",
        "def get_completion(prompt):\n",
        "    completion = genai.generate_text(model=model_name,  # Use the correct model name\n",
        "                                     prompt=prompt,\n",
        "                                     temperature=0,\n",
        "                                     max_output_tokens=200)\n",
        "    return completion.result"
      ],
      "metadata": {
        "id": "FGQv3LoOfL2X"
      },
      "execution_count": null,
      "outputs": []
    },
    {
      "cell_type": "code",
      "source": [
        "# Summarize each chunk of text\n",
        "summary = \"\"\n",
        "for i in range(len(new_text)):\n",
        "    prompt = f\"\"\"\n",
        "    Your task is to act as a Text Summariser.\n",
        "    I'll give you text from pages of a book from beginning to end.\n",
        "    Your job is to summarize text from these pages in less than 100 words.\n",
        "    Don't be conversational. I need a plain 100-word answer.\n",
        "    Text is shared below, delimited with triple backticks:\n",
        "    ```{new_text[i]}```\n",
        "    \"\"\"\n",
        "    try:\n",
        "        response = get_completion(prompt)\n",
        "    except Exception as e:\n",
        "        print(f\"Error occurred: {e}\")\n",
        "        time.sleep(20)\n",
        "        response = get_completion(prompt)\n",
        "\n",
        "    print(response)\n",
        "    summary += f\"{response}\\n\\n\"\n",
        "    time.sleep(20)  # Pause to respect API rate limits"
      ],
      "metadata": {
        "colab": {
          "base_uri": "https://localhost:8080/",
          "height": 1000
        },
        "id": "yIbx4iC6fLwj",
        "outputId": "9f640250-7c6c-466a-9494-2a3bb659d39b"
      },
      "execution_count": null,
      "outputs": [
        {
          "output_type": "stream",
          "name": "stdout",
          "text": [
            "None\n",
            "The art of war is of vital importance to the state. It is a matter of life and death, a road either to safety or to ruin. The five constant factors to be taken into account in one's deliberations, when seeking to determine the conditions obtaining in the field are: \n",
            "(1) The Moral Law; (2) Heaven; (3) Earth; (4) The Commander; (5) Method and discipline.\n",
            "None\n",
            "Sun Tzu's Art of War: The best way to win a war is to take the enemy's country without fighting. If you must fight, avoid sieges and attack the enemy's army in the field. Use strategy to win without losing men.\n",
            "There are 5 essentials for victory: 1) know when to fight and when not to fight; 2) handle both superior and inferior forces; 3) army is animated by the same spirit throughout all its ranks; 4) prepared and wait to take the enemy unprepared; 5) has military capacity and is not interfered with by the sovereign.\n",
            "Sun Tzu said: To win a battle, one must not only win, but win easily. To do so, one must make no mistakes and put oneself in a position where defeat is impossible.\n",
            "There are not more than two methods of attack in battle, the direct and the indirect. The direct attack is like the rush of a torrent, the indirect attack is like the well-timed swoop of a falcon. The good fighter will be terrible in his onset and prompt in his decision.\n",
            "Sun Tzu said: The clever combatant imposes his will on the enemy, but does not allow the enemy's will to be imposed on him.\n",
            "Sun Tzu said: The art of war is of vital importance to the state.\n",
            "It is a matter of life and death, a road either to safety or to ruin.\n",
            "Therefore it is a subject of inquiry which can on no account be neglected.\n",
            "The art of maneuvering is to turn the devious into the direct, and misfortune into gain. An army without its baggage-train is lost; without provisions it is lost; without bases of supply it is lost.\n",
            "The chapter talks about the importance of using flags and banners to focus the attention of the army, and how to avoid an enemy when their spirit is keen.\n",
            "Sun Tzu discusses the importance of being prepared for the enemy and avoiding dangerous situations.\n",
            "The text talks about the advantages of high ground and sunny places in military. It also mentions the dangers of marshes, valleys, and other difficult terrain.\n",
            "1. If soldiers are faint from want of food, they will lean on their spears.\n",
            "2. If soldiers are thirsty, those who are sent to draw water will drink first.\n",
            "3. If the enemy sees an advantage to be gained and makes no effort to secure it, the soldiers are exhausted.\n",
            "4. If birds gather on any spot, it is unoccupied. Clamor by night betokens nervousness.\n",
            "5. If there is disturbance in the camp, the general’s authority is weak.\n",
            "Six kinds of terrain: accessible, entangling, temporizing, narrow passes, precipitous heights, and positions at a great distance from the enemy.\n",
            "Six calamities that can befall an army: flight, insubordination, collapse, ruin, disorganization, and rout.\n",
            "Six ways of courting defeat, the importance of knowing the enemy and yourself, and the importance of knowing the terrain.\n",
            "Sun Tzu discusses the nine types of ground and how to fight on each type.\n",
            "The chapter talks about how to manage an army and how to make the best of both strong and weak.\n",
            "The text discusses the different measures suited to the nine varieties of ground, the expediency of aggressive or defensive tactics, and the fundamental laws of human nature.\n",
            "Sun Tzu said: There are five ways of attacking with fire. The material for raising fire should always be kept in readiness. The proper season is when the weather is very dry; the special days are those when the moon is in the constellations of the Sieve, the Wall, the Wing or the Cross-bar; for these four are all days of rising wind.\n",
            "Sun Tzu said: A wise sovereign and a good general must have foreknowledge of the enemy's condition. This can be obtained from spies. There are five types of spies: local spies, inward spies, converted spies, doomed spies, and surviving spies.\n",
            "None\n",
            "None\n",
            "The art of war is of vital importance to the state. It is a matter of life and death, a road either to safety or to ruin. The five constant factors to be taken into account in one's deliberations, when seeking to determine the conditions obtaining in the field are: \n",
            "(1) The Moral Law; (2) Heaven; (3) Earth; (4) The Commander; (5) Method and discipline.\n",
            "None\n",
            "Sun Tzu's Art of War: The best way to win a war is to take the enemy's country without fighting. If you must fight, avoid sieges and attack the enemy's army in the field. Use strategy to win without losing men.\n",
            "There are 5 essentials for victory: 1) know when to fight and when not to fight; 2) handle both superior and inferior forces; 3) army is animated by the same spirit throughout all its ranks; 4) prepared and wait to take the enemy unprepared; 5) has military capacity and is not interfered with by the sovereign.\n",
            "Sun Tzu said: To win a battle, one must not only win, but win easily. To do so, one must make no mistakes and put oneself in a position where defeat is impossible.\n",
            "There are not more than two methods of attack in battle, the direct and the indirect. The direct attack is like the rush of a torrent, the indirect attack is like the well-timed swoop of a falcon. The good fighter will be terrible in his onset and prompt in his decision.\n",
            "Sun Tzu said: The clever combatant imposes his will on the enemy, but does not allow the enemy's will to be imposed on him.\n",
            "Sun Tzu said: The art of war is of vital importance to the state.\n",
            "It is a matter of life and death, a road either to safety or to ruin.\n",
            "Therefore it is a subject of inquiry which can on no account be neglected.\n",
            "The art of maneuvering is to turn the devious into the direct, and misfortune into gain. An army without its baggage-train is lost; without provisions it is lost; without bases of supply it is lost.\n",
            "The chapter talks about the importance of using flags and banners to focus the attention of the army, and how to avoid an enemy when their spirit is keen.\n",
            "Sun Tzu discusses the importance of being prepared for the enemy and avoiding dangerous situations.\n",
            "The text talks about the advantages of high ground and sunny places in military. It also mentions the dangers of marshes, valleys, and other difficult terrain.\n",
            "1. If soldiers are faint from want of food, they will lean on their spears.\n",
            "2. If soldiers are thirsty, those who are sent to draw water will drink first.\n",
            "3. If the enemy sees an advantage to be gained and makes no effort to secure it, the soldiers are exhausted.\n",
            "4. If birds gather on any spot, it is unoccupied. Clamor by night betokens nervousness.\n",
            "5. If there is disturbance in the camp, the general’s authority is weak.\n",
            "Six kinds of terrain: accessible, entangling, temporizing, narrow passes, precipitous heights, and positions at a great distance from the enemy.\n",
            "Six calamities that can befall an army: flight, insubordination, collapse, ruin, disorganization, and rout.\n",
            "Six ways of courting defeat, the importance of knowing the enemy and yourself, and the importance of knowing the terrain.\n",
            "Sun Tzu discusses the nine types of ground and how to fight on each type.\n",
            "The chapter talks about how to manage an army and how to make the best of both strong and weak.\n",
            "The text discusses the different measures suited to the nine varieties of ground, the expediency of aggressive or defensive tactics, and the fundamental laws of human nature.\n",
            "Sun Tzu said: There are five ways of attacking with fire. The material for raising fire should always be kept in readiness. The proper season is when the weather is very dry; the special days are those when the moon is in the constellations of the Sieve, the Wall, the Wing or the Cross-bar; for these four are all days of rising wind.\n",
            "Sun Tzu said: A wise sovereign and a good general must have foreknowledge of the enemy's condition. This can be obtained from spies. There are five types of spies: local spies, inward spies, converted spies, doomed spies, and surviving spies.\n",
            "None\n"
          ]
        }
      ]
    },
    {
      "cell_type": "code",
      "source": [
        "# Display the final summary\n",
        "display(to_markdown(summary))"
      ],
      "metadata": {
        "colab": {
          "base_uri": "https://localhost:8080/",
          "height": 1000
        },
        "id": "uTR9bcUHfduG",
        "outputId": "45aac012-b717-4df9-d48f-411c4f0b57a3"
      },
      "execution_count": null,
      "outputs": [
        {
          "output_type": "display_data",
          "data": {
            "text/plain": [
              "<IPython.core.display.Markdown object>"
            ],
            "text/markdown": "> None\n> \n> The art of war is of vital importance to the state. It is a matter of life and death, a road either to safety or to ruin. The five constant factors to be taken into account in one's deliberations, when seeking to determine the conditions obtaining in the field are: \n> (1) The Moral Law; (2) Heaven; (3) Earth; (4) The Commander; (5) Method and discipline.\n> \n> None\n> \n> Sun Tzu's Art of War: The best way to win a war is to take the enemy's country without fighting. If you must fight, avoid sieges and attack the enemy's army in the field. Use strategy to win without losing men.\n> \n> There are 5 essentials for victory: 1) know when to fight and when not to fight; 2) handle both superior and inferior forces; 3) army is animated by the same spirit throughout all its ranks; 4) prepared and wait to take the enemy unprepared; 5) has military capacity and is not interfered with by the sovereign.\n> \n> Sun Tzu said: To win a battle, one must not only win, but win easily. To do so, one must make no mistakes and put oneself in a position where defeat is impossible.\n> \n> There are not more than two methods of attack in battle, the direct and the indirect. The direct attack is like the rush of a torrent, the indirect attack is like the well-timed swoop of a falcon. The good fighter will be terrible in his onset and prompt in his decision.\n> \n> Sun Tzu said: The clever combatant imposes his will on the enemy, but does not allow the enemy's will to be imposed on him.\n> \n> Sun Tzu said: The art of war is of vital importance to the state.\n> It is a matter of life and death, a road either to safety or to ruin.\n> Therefore it is a subject of inquiry which can on no account be neglected.\n> \n> The art of maneuvering is to turn the devious into the direct, and misfortune into gain. An army without its baggage-train is lost; without provisions it is lost; without bases of supply it is lost.\n> \n> The chapter talks about the importance of using flags and banners to focus the attention of the army, and how to avoid an enemy when their spirit is keen.\n> \n> Sun Tzu discusses the importance of being prepared for the enemy and avoiding dangerous situations.\n> \n> The text talks about the advantages of high ground and sunny places in military. It also mentions the dangers of marshes, valleys, and other difficult terrain.\n> \n> 1. If soldiers are faint from want of food, they will lean on their spears.\n> 2. If soldiers are thirsty, those who are sent to draw water will drink first.\n> 3. If the enemy sees an advantage to be gained and makes no effort to secure it, the soldiers are exhausted.\n> 4. If birds gather on any spot, it is unoccupied. Clamor by night betokens nervousness.\n> 5. If there is disturbance in the camp, the general’s authority is weak.\n> \n> Six kinds of terrain: accessible, entangling, temporizing, narrow passes, precipitous heights, and positions at a great distance from the enemy.\n> Six calamities that can befall an army: flight, insubordination, collapse, ruin, disorganization, and rout.\n> \n> Six ways of courting defeat, the importance of knowing the enemy and yourself, and the importance of knowing the terrain.\n> \n> Sun Tzu discusses the nine types of ground and how to fight on each type.\n> \n> The chapter talks about how to manage an army and how to make the best of both strong and weak.\n> \n> The text discusses the different measures suited to the nine varieties of ground, the expediency of aggressive or defensive tactics, and the fundamental laws of human nature.\n> \n> Sun Tzu said: There are five ways of attacking with fire. The material for raising fire should always be kept in readiness. The proper season is when the weather is very dry; the special days are those when the moon is in the constellations of the Sieve, the Wall, the Wing or the Cross-bar; for these four are all days of rising wind.\n> \n> Sun Tzu said: A wise sovereign and a good general must have foreknowledge of the enemy's condition. This can be obtained from spies. There are five types of spies: local spies, inward spies, converted spies, doomed spies, and surviving spies.\n> \n> None\n> \n> None\n> \n> The art of war is of vital importance to the state. It is a matter of life and death, a road either to safety or to ruin. The five constant factors to be taken into account in one's deliberations, when seeking to determine the conditions obtaining in the field are: \n> (1) The Moral Law; (2) Heaven; (3) Earth; (4) The Commander; (5) Method and discipline.\n> \n> None\n> \n> Sun Tzu's Art of War: The best way to win a war is to take the enemy's country without fighting. If you must fight, avoid sieges and attack the enemy's army in the field. Use strategy to win without losing men.\n> \n> There are 5 essentials for victory: 1) know when to fight and when not to fight; 2) handle both superior and inferior forces; 3) army is animated by the same spirit throughout all its ranks; 4) prepared and wait to take the enemy unprepared; 5) has military capacity and is not interfered with by the sovereign.\n> \n> Sun Tzu said: To win a battle, one must not only win, but win easily. To do so, one must make no mistakes and put oneself in a position where defeat is impossible.\n> \n> There are not more than two methods of attack in battle, the direct and the indirect. The direct attack is like the rush of a torrent, the indirect attack is like the well-timed swoop of a falcon. The good fighter will be terrible in his onset and prompt in his decision.\n> \n> Sun Tzu said: The clever combatant imposes his will on the enemy, but does not allow the enemy's will to be imposed on him.\n> \n> Sun Tzu said: The art of war is of vital importance to the state.\n> It is a matter of life and death, a road either to safety or to ruin.\n> Therefore it is a subject of inquiry which can on no account be neglected.\n> \n> The art of maneuvering is to turn the devious into the direct, and misfortune into gain. An army without its baggage-train is lost; without provisions it is lost; without bases of supply it is lost.\n> \n> The chapter talks about the importance of using flags and banners to focus the attention of the army, and how to avoid an enemy when their spirit is keen.\n> \n> Sun Tzu discusses the importance of being prepared for the enemy and avoiding dangerous situations.\n> \n> The text talks about the advantages of high ground and sunny places in military. It also mentions the dangers of marshes, valleys, and other difficult terrain.\n> \n> 1. If soldiers are faint from want of food, they will lean on their spears.\n> 2. If soldiers are thirsty, those who are sent to draw water will drink first.\n> 3. If the enemy sees an advantage to be gained and makes no effort to secure it, the soldiers are exhausted.\n> 4. If birds gather on any spot, it is unoccupied. Clamor by night betokens nervousness.\n> 5. If there is disturbance in the camp, the general’s authority is weak.\n> \n> Six kinds of terrain: accessible, entangling, temporizing, narrow passes, precipitous heights, and positions at a great distance from the enemy.\n> Six calamities that can befall an army: flight, insubordination, collapse, ruin, disorganization, and rout.\n> \n> Six ways of courting defeat, the importance of knowing the enemy and yourself, and the importance of knowing the terrain.\n> \n> Sun Tzu discusses the nine types of ground and how to fight on each type.\n> \n> The chapter talks about how to manage an army and how to make the best of both strong and weak.\n> \n> The text discusses the different measures suited to the nine varieties of ground, the expediency of aggressive or defensive tactics, and the fundamental laws of human nature.\n> \n> Sun Tzu said: There are five ways of attacking with fire. The material for raising fire should always be kept in readiness. The proper season is when the weather is very dry; the special days are those when the moon is in the constellations of the Sieve, the Wall, the Wing or the Cross-bar; for these four are all days of rising wind.\n> \n> Sun Tzu said: A wise sovereign and a good general must have foreknowledge of the enemy's condition. This can be obtained from spies. There are five types of spies: local spies, inward spies, converted spies, doomed spies, and surviving spies.\n> \n> None\n> \n"
          },
          "metadata": {}
        }
      ]
    },
    {
      "cell_type": "code",
      "source": [
        "with open(directory +'/googleai_api_summary.txt',\n",
        "          'w') as out:\n",
        "  out.write(summary)"
      ],
      "metadata": {
        "id": "sbvYNjLkfglw"
      },
      "execution_count": null,
      "outputs": []
    }
  ]
}